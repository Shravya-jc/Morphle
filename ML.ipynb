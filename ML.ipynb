{
 "cells": [
  {
   "cell_type": "code",
   "execution_count": 3,
   "id": "8b0e76b3-f035-4e1f-908a-16b1f715b9da",
   "metadata": {},
   "outputs": [
    {
     "name": "stdout",
     "output_type": "stream",
     "text": [
      "['Sunny', 'Warm', 'Normal', 'Strong', 'Same', 'Yes']\n",
      "[['Sunny', 'Warm', 'High', 'Strong', 'Same', 'Yes'], ['Rainy', 'Cold', 'High', 'Strong', 'Change', 'No'], ['Sunny', 'Warm', 'High', 'Strong', 'Change', 'Yes']]\n",
      "Initial hypothesis [None, None, None, None, None]\n",
      "Hypothesis updated ['Sunny', 'Warm', 'High', 'Strong', 'Same']\n",
      "['Sunny', 'Warm', 'High', 'Strong', '?']\n",
      "Final hypothesis ['Sunny', 'Warm', 'High', 'Strong', '?']\n"
     ]
    }
   ],
   "source": [
    "#1 find s algorithm\n",
    "import csv\n",
    "Path=\"C:/Users/shrav/Documents/ANN lab programs/Weather.csv - Sheet1.csv\"\n",
    "def load_csv(filename):\n",
    "    with open(filename,'r') as file:\n",
    "        data=list(csv.reader(file))\n",
    "        header=data[0]\n",
    "        examples=data[1:]\n",
    "        print(header)\n",
    "        print(examples)\n",
    "    return examples\n",
    "        \n",
    "def find_s(examples):\n",
    "    hypothesis=[None for _ in range(len(examples[0])-1)]\n",
    "    print(\"Initial hypothesis\",hypothesis)\n",
    "    for example in examples:\n",
    "        if example[-1]==\"Yes\":\n",
    "            if hypothesis==[None]*len(hypothesis):\n",
    "                hypothesis=example[:-1]\n",
    "                print(\"Hypothesis updated\",hypothesis)\n",
    "            else:\n",
    "                for i in range(len(hypothesis)):\n",
    "                    if hypothesis[i]!=example[i]:\n",
    "                        hypothesis[i]='?'\n",
    "                        print(hypothesis)\n",
    "    return hypothesis\n",
    "                                    \n",
    "examples=load_csv(Path)\n",
    "final_hypothesis=find_s(examples)\n",
    "print(\"Final hypothesis\",final_hypothesis)\n",
    "\n",
    "                \n",
    "            \n",
    "            \n",
    "    \n",
    "            \n",
    "            \n",
    "        "
   ]
  },
  {
   "cell_type": "code",
   "execution_count": null,
   "id": "1b0f568f-7bb8-4029-a005-bf16af133648",
   "metadata": {},
   "outputs": [],
   "source": []
  }
 ],
 "metadata": {
  "kernelspec": {
   "display_name": "Python 3 (ipykernel)",
   "language": "python",
   "name": "python3"
  },
  "language_info": {
   "codemirror_mode": {
    "name": "ipython",
    "version": 3
   },
   "file_extension": ".py",
   "mimetype": "text/x-python",
   "name": "python",
   "nbconvert_exporter": "python",
   "pygments_lexer": "ipython3",
   "version": "3.12.5"
  }
 },
 "nbformat": 4,
 "nbformat_minor": 5
}
